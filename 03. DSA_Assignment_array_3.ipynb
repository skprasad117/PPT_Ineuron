{
 "cells": [
  {
   "cell_type": "markdown",
   "id": "440e55e4",
   "metadata": {},
   "source": [
    "## Question 1\n",
    "Given an integer array nums of length n and an integer target, find three integers\n",
    "in nums such that the sum is closest to the target.\n",
    "Return the sum of the three integers.\n",
    "\n",
    "You may assume that each input would have exactly one solution.\n",
    "\n",
    "Example 1:\n",
    "Input: nums = [-1,2,1,-4], target = 1\n",
    "Output: 2\n",
    "\n",
    "Explanation: The sum that is closest to the target is 2. (-1 + 2 + 1 = 2)."
   ]
  },
  {
   "cell_type": "code",
   "execution_count": 162,
   "id": "d778dca6",
   "metadata": {},
   "outputs": [
    {
     "name": "stdout",
     "output_type": "stream",
     "text": [
      "2\n"
     ]
    }
   ],
   "source": [
    "class solution:\n",
    "    def solve(self,array,target):\n",
    "        array.sort()\n",
    "        max_sum = 0\n",
    "        for i in range(len(array)):\n",
    "            if array[i] > 2:\n",
    "                break\n",
    "            l = i+1\n",
    "            r = len(array)-1\n",
    "            while(l<r):\n",
    "                if array[i] +array[l] + array[r] <=2:\n",
    "                    max_sum = max(max_sum,array[i] +array[l] + array[r])\n",
    "                    l +=1\n",
    "                elif array[i] +array[l] + array[r] >2:\n",
    "                    r -=1\n",
    "              \n",
    "\n",
    "        return max_sum\n",
    "obj = solution()\n",
    "print(obj.solve([-1,2,1,-4],1))"
   ]
  },
  {
   "cell_type": "markdown",
   "id": "8f981057",
   "metadata": {},
   "source": [
    "## Question 2\n",
    "Given an array nums of n integers, return an array of all the unique quadruplets\n",
    "[nums[a], nums[b], nums[c], nums[d]] such that:\n",
    "\n",
    "           ● 0 <= a, b, c, d < n\n",
    "           ● a, b, c, and d are distinct.\n",
    "           ● nums[a] + nums[b] + nums[c] + nums[d] == target\n",
    "\n",
    "You may return the answer in any order.\n",
    "\n",
    "Example 1:\n",
    "Input: nums = [1,0,-1,0,-2,2], target = 0\n",
    "Output: [[-2,-1,1,2],[-2,0,0,2],[-1,0,0,1]]"
   ]
  },
  {
   "cell_type": "code",
   "execution_count": 230,
   "id": "6a209362",
   "metadata": {},
   "outputs": [
    {
     "data": {
      "text/plain": [
       "[[-2, -1, 1, 2], [-2, 0, 0, 2], [-1, 0, 0, 1]]"
      ]
     },
     "execution_count": 230,
     "metadata": {},
     "output_type": "execute_result"
    }
   ],
   "source": [
    "def solution(array, target):\n",
    "    l1 = 0\n",
    "    r2 = len(array)-1\n",
    "    array.sort()\n",
    "    answer_list = []\n",
    "    \n",
    "    # approach: 4 sum problem ----> 2 sum problem\n",
    "    for i in range(len(array)-1):\n",
    "    \n",
    "        if array[i]>0:\n",
    "            break\n",
    "        for j in range(i+1,len(array)-1):\n",
    "            if array[j]>0:\n",
    "                break\n",
    "                \n",
    "            l = j+1\n",
    "            r = len(array)-1\n",
    "            \n",
    "            # two sum approach\n",
    "            while(l<r):\n",
    "                if array[i]+array[j]+array[l]+array[r]>0:\n",
    "                    r -= 1\n",
    "                elif array[i]+array[j]+array[l]+array[r]<0:\n",
    "                    l +=1\n",
    "                else:\n",
    "                    answer_list.append([array[i],array[j],array[l],array[r]])\n",
    "                    r -= 1\n",
    "                    l +=1\n",
    "    return answer_list\n",
    "                    \n",
    "    \n",
    "nums = [1,0,-1,0,-2,2] \n",
    "target = 0         \n",
    "    \n",
    "solution(nums,target)"
   ]
  },
  {
   "cell_type": "markdown",
   "id": "b2c70ddc",
   "metadata": {},
   "source": [
    "# **Question 3**\n",
    "A permutation of an array of integers is an arrangement of its members into a\n",
    "sequence or linear order.\n",
    "\n",
    "For example, for arr = [1,2,3], the following are all the permutations of arr:\n",
    "[1,2,3], [1,3,2], [2, 1, 3], [2, 3, 1], [3,1,2], [3,2,1].\n",
    "\n",
    "The next permutation of an array of integers is the next lexicographically greater\n",
    "permutation of its integer. More formally, if all the permutations of the array are\n",
    "sorted in one container according to their lexicographical order, then the next\n",
    "permutation of that array is the permutation that follows it in the sorted container.\n",
    "\n",
    "If such an arrangement is not possible, the array must be rearranged as the\n",
    "lowest possible order (i.e., sorted in ascending order).\n",
    "\n",
    "● For example, the next permutation of arr = [1,2,3] is [1,3,2].\n",
    "● Similarly, the next permutation of arr = [2,3,1] is [3,1,2].\n",
    "● While the next permutation of arr = [3,2,1] is [1,2,3] because [3,2,1] does not\n",
    "have a lexicographical larger rearrangement.\n",
    "\n",
    "Given an array of integers nums, find the next permutation of nums.\n",
    "The replacement must be in place and use only constant extra memory.\n",
    "\n",
    "**Example 1:**\n",
    "Input: nums = [1,2,3]\n",
    "Output: [1,3,2]\n",
    "\n",
    "</aside>"
   ]
  },
  {
   "cell_type": "code",
   "execution_count": 231,
   "id": "2001cc49",
   "metadata": {},
   "outputs": [
    {
     "data": {
      "text/plain": [
       "[3, 2, 1]"
      ]
     },
     "execution_count": 231,
     "metadata": {},
     "output_type": "execute_result"
    }
   ],
   "source": [
    "def lexi_greater_perm(array):\n",
    "    for i in range(len(array)-1,-1,-1):\n",
    "        if i>0 and array[i]>array[i-1]:\n",
    "            temp= int()\n",
    "            temp = array[i]\n",
    "            array[i] = array[i-1]\n",
    "            array[i-1] = temp\n",
    "            array = array[:i] + array[-1:-len(array)+i-1:-1]\n",
    "            return array\n",
    "    \n",
    "    # if no greter permutation is possible. then the sortest possible combination\n",
    "    array.sort()\n",
    "    return array\n",
    "            \n",
    "    \n",
    "lexi_greater_perm([3,1,2])"
   ]
  },
  {
   "cell_type": "markdown",
   "id": "33c9ec78",
   "metadata": {},
   "source": [
    "## Question 4\n",
    "Given a sorted array of distinct integers and a target value, return the index if the\n",
    "target is found. If not, return the index where it would be if it were inserted in\n",
    "order.\n",
    "\n",
    "You must write an algorithm with O(log n) runtime complexity.\n",
    "\n",
    "Example 1:\n",
    "Input: nums = [1,3,5,6], target = 5\n",
    "Output: 2"
   ]
  },
  {
   "cell_type": "code",
   "execution_count": 4,
   "id": "6bf05bc8",
   "metadata": {},
   "outputs": [
    {
     "name": "stdout",
     "output_type": "stream",
     "text": [
      "2\n"
     ]
    }
   ],
   "source": [
    "from typing import List\n",
    "class IndexNum:\n",
    "    \n",
    "    def __init__(self, array: List[int], target: int):\n",
    "        self.array = array\n",
    "        self.target = target\n",
    "        self.index = self.find()\n",
    "        \n",
    "    \n",
    "    def find(self)->int:\n",
    "        for i in range(len(self.array)):\n",
    "            if self.array[i] >= self.target:\n",
    "                return i\n",
    "            \n",
    "            \n",
    "if __name__ == \"__main__\":\n",
    "    array = [1,3,5,6]\n",
    "    target = 5\n",
    "    result = IndexNum(array,target)\n",
    "    print(result.index)\n",
    "                "
   ]
  },
  {
   "cell_type": "markdown",
   "id": "1c4dd0d1",
   "metadata": {},
   "source": [
    "## **Question 5**\n",
    "You are given a large integer represented as an integer array digits, where each\n",
    "digits[i] is the ith digit of the integer. The digits are ordered from most significant\n",
    "to least significant in left-to-right order. The large integer does not contain any\n",
    "leading 0's.\n",
    "\n",
    "Increment the large integer by one and return the resulting array of digits.\n",
    "\n",
    "**Example 1:**\n",
    "Input: digits = [1,2,3]\n",
    "Output: [1,2,4]\n",
    "\n",
    "**Explanation:** The array represents the integer 123.\n",
    "Incrementing by one gives 123 + 1 = 124.\n",
    "Thus, the result should be [1,2,4].\n",
    "\n",
    "</aside>"
   ]
  },
  {
   "cell_type": "code",
   "execution_count": 5,
   "id": "b5d94079",
   "metadata": {},
   "outputs": [
    {
     "name": "stdout",
     "output_type": "stream",
     "text": [
      "[1, 2, 4]\n"
     ]
    }
   ],
   "source": [
    "class IncrementOne:\n",
    "    def increment(self,array):\n",
    "        number = 0\n",
    "        order = 10**(len(array)-1)\n",
    "        for count, digit in enumerate(array):\n",
    "            number = number + digit*order\n",
    "            order = int(order/10)\n",
    "            \n",
    "        number +=1\n",
    "        order = 10**(len([digit for digit in str(number)])-1) \n",
    "        array.clear()\n",
    "        num = number\n",
    "        \n",
    "        while (order>=1):\n",
    "            digit = int((num - number%order)/order )\n",
    "            num = num%(order)\n",
    "            order = order/10\n",
    "            array.append(digit)\n",
    "\n",
    "        \n",
    "array = [1,2,3]\n",
    "num = IncrementOne()\n",
    "num.increment(array)\n",
    "print(array)"
   ]
  },
  {
   "cell_type": "markdown",
   "id": "423f5649",
   "metadata": {},
   "source": [
    "## Question 6\n",
    "Given a non-empty array of integers nums, every element appears twice except\n",
    "for one. Find that single one.\n",
    "\n",
    "You must implement a solution with a linear runtime complexity and use only\n",
    "constant extra space.\n",
    "\n",
    "Example 1:\n",
    "Input: nums = [2,2,1]\n",
    "Output: 1"
   ]
  },
  {
   "cell_type": "code",
   "execution_count": 232,
   "id": "bed2c2d0",
   "metadata": {},
   "outputs": [
    {
     "data": {
      "text/plain": [
       "1"
      ]
     },
     "execution_count": 232,
     "metadata": {},
     "output_type": "execute_result"
    }
   ],
   "source": [
    "def duplicate(array):\n",
    "    array.sort()\n",
    "    for i in range(0,len(array)-1,2):\n",
    "        if i == len(array)-3 and array[i] == array[i+1]:\n",
    "            return array[-1]  # corner case if after sorting last element is single\n",
    "        \n",
    "        if array[i] != array[i+1]:\n",
    "            return array[i] \n",
    "array = [2,2,1] \n",
    "duplicate(array)\n",
    "        "
   ]
  },
  {
   "cell_type": "markdown",
   "id": "02e10781",
   "metadata": {},
   "source": [
    "## Question 7\n",
    "You are given an inclusive range [lower, upper] and a sorted unique integer array\n",
    "nums, where all elements are within the inclusive range.\n",
    "\n",
    "A number x is considered missing if x is in the range [lower, upper] and x is not in\n",
    "nums.\n",
    "\n",
    "Return the shortest sorted list of ranges that exactly covers all the missing\n",
    "numbers. That is, no element of nums is included in any of the ranges, and each\n",
    "missing number is covered by one of the ranges.\n",
    "\n",
    "Example 1:\n",
    "Input: nums = [0,1,3,50,75], lower = 0, upper = 99\n",
    "Output: [[2,2],[4,49],[51,74],[76,99]]\n",
    "\n",
    "Explanation: The ranges are:\n",
    "[2,2]\n",
    "[4,49]\n",
    "[51,74]\n",
    "[76,99]"
   ]
  },
  {
   "cell_type": "code",
   "execution_count": 214,
   "id": "a591caed",
   "metadata": {},
   "outputs": [
    {
     "data": {
      "text/plain": [
       "[[2, 2], [4, 49], [51, 74], [76, 99]]"
      ]
     },
     "execution_count": 214,
     "metadata": {},
     "output_type": "execute_result"
    }
   ],
   "source": [
    "from typing import List\n",
    "class solution:\n",
    "    \n",
    "    def solve(self,array,lower,upper)->List:\n",
    "        missing = []\n",
    "        for i in range(len(array)):\n",
    "            # the corner case for last element\n",
    "            if i == len(array)-1 and upper - array[i]>=1:\n",
    "                missing.append([array[i]+1,upper])\n",
    "                \n",
    "            if i <len(array)-1 and array[i+1]-array[i]>1:\n",
    "                \n",
    "                if i ==0 and array[i]>0:\n",
    "                    missing.append([lower,array[i]-1])\n",
    "                    \n",
    "                missing.append([array[i]+1,array[i+1]-1])\n",
    "                \n",
    "        return missing\n",
    "                \n",
    "obj = solution()\n",
    "array = [0,1,3,50,75]\n",
    "lower = 0\n",
    "upper = 99\n",
    "obj.solve(array, lower, upper)\n",
    "            \n",
    "        "
   ]
  },
  {
   "cell_type": "markdown",
   "id": "0e2c4719",
   "metadata": {},
   "source": [
    "## Question 8\n",
    "Given an array of meeting time intervals where intervals[i] = [starti, endi],\n",
    "determine if a person could attend all meetings.\n",
    "\n",
    "Example 1:\n",
    "Input: intervals = [[0,30],[5,10],[15,20]]\n",
    "Output: false"
   ]
  },
  {
   "cell_type": "code",
   "execution_count": 75,
   "id": "1bfade3e",
   "metadata": {},
   "outputs": [
    {
     "name": "stdout",
     "output_type": "stream",
     "text": [
      "[[0, 30], [5, 10], [15, 20]]\n"
     ]
    },
    {
     "data": {
      "text/plain": [
       "False"
      ]
     },
     "execution_count": 75,
     "metadata": {},
     "output_type": "execute_result"
    }
   ],
   "source": [
    "def solution(array):\n",
    "    array.sort(key= lambda x:x[0]) # in case if they are not arranged in order\n",
    "    print(array)\n",
    "    last_interval_end = int()\n",
    "    \n",
    "    for interval in array:\n",
    "        if not last_interval_end or last_interval_end < interval[0]:\n",
    "  \n",
    "            last_interval_end = interval[1]\n",
    "           \n",
    "        else:\n",
    "            return False\n",
    "    return True\n",
    "\n",
    "intervals = [[0,30],[5,10],[15,20]] \n",
    "solution(intervals)"
   ]
  }
 ],
 "metadata": {
  "kernelspec": {
   "display_name": "Python 3 (ipykernel)",
   "language": "python",
   "name": "python3"
  },
  "language_info": {
   "codemirror_mode": {
    "name": "ipython",
    "version": 3
   },
   "file_extension": ".py",
   "mimetype": "text/x-python",
   "name": "python",
   "nbconvert_exporter": "python",
   "pygments_lexer": "ipython3",
   "version": "3.9.13"
  }
 },
 "nbformat": 4,
 "nbformat_minor": 5
}
