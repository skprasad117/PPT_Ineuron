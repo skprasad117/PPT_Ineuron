{
 "cells": [
  {
   "cell_type": "markdown",
   "id": "c6893135",
   "metadata": {},
   "source": [
    "## Q1. \n",
    "Given an array of integers nums and an integer target, return indices of the two numbers such that they add up to target.\n",
    "\n",
    "You may assume that each input would have exactly one solution, and you may not use the same element twice.\n",
    "\n",
    "You can return the answer in any order.\n",
    "\n",
    "**Example:**\n",
    "Input: nums = [2,7,11,15], target = 9\n",
    "Output0 [0,1]\n",
    "\n",
    "**Explanation:** Because nums[0] + nums[1] == 9, we return [0, 1]"
   ]
  },
  {
   "cell_type": "markdown",
   "id": "5139b9e7",
   "metadata": {},
   "source": [
    "## Solution"
   ]
  },
  {
   "cell_type": "markdown",
   "id": "3abc908b",
   "metadata": {},
   "source": [
    "#### Algorithm\n",
    "1. sort the array for 2 pointer approach and save it in seprate array\n",
    "2. initialise a variable of type list say, result \n",
    "3. initialise the left pointer at start of array and right pointer at the end of sorted array.\n",
    "4. check the sum of corresponding value of left and right pointer until left position < right position.\n",
    "    a. if value of left pointer + value of right pointer is greater than the target.\n",
    "        **update:** dec the right pointer by 1 index\n",
    "    b. if value of left pointer + value of right pointer is less than the target.\n",
    "        **update:** inc the left pointer by 1 index\n",
    "    c. if value of left pointer + value of right pointer is less than the target.\n",
    "        - save the index in result variable as per index of input array\n",
    "        "
   ]
  },
  {
   "cell_type": "code",
   "execution_count": 29,
   "id": "11a57b2a",
   "metadata": {},
   "outputs": [
    {
     "name": "stdout",
     "output_type": "stream",
     "text": [
      "[0, 1]\n"
     ]
    }
   ],
   "source": [
    "from typing import List, Tuple\n",
    "class TargetSumIndex:\n",
    "    \n",
    "    def __init__(self, array: List[int], target: int):\n",
    "        self.array = array\n",
    "        self.target = target\n",
    "        result = list()\n",
    "        self.solution()\n",
    "        \n",
    "   # by using two pointer approach\n",
    "    def solution(self)-> List[List]:\n",
    "        array_sorted = self.array.copy() \n",
    "        # sorting the array for generalised case using a separate variable because want to return the index as per input array\n",
    "        array_sorted.sort()         \n",
    "        \n",
    "        l= 0                          # left pointer initial positions\n",
    "        r= len(array_sorted)-1          # right pointer initial positions\n",
    "        \n",
    "        while (l<r):     \n",
    "            if array_sorted[l] + array_sorted[r] > self.target:\n",
    "                r = r - 1             # updating right pointer position\n",
    "            elif array_sorted[l] + array_sorted[r]<self.target:\n",
    "                l = l + 1             # updating left pointer position\n",
    "            elif array_sorted[l] + array_sorted[r]==self.target:\n",
    "                # returing the index as per provied array and considering a corner situation that it may be unsorted\n",
    "                self.result = [self.array.index(array_sorted[l]),self.array.index(array_sorted[r])]\n",
    "                break \n",
    "                \n",
    "        return self.result\n",
    "    \n",
    "if __name__ == \"__main__\":\n",
    "    array = [2,7,11,15]\n",
    "    target = 9\n",
    "    index = TargetSumIndex(array,target) # index of the first occurence of elements as per satisfied case\n",
    "    print(index.result)"
   ]
  },
  {
   "cell_type": "markdown",
   "id": "cf51428d",
   "metadata": {},
   "source": [
    "## **Q2.** \n",
    "Given an integer array nums and an integer val, remove all occurrences of val in nums in-place. The order of the elements may be changed. Then return the number of elements in nums which are not equal to val.\n",
    "\n",
    "Consider the number of elements in nums which are not equal to val be k, to get accepted, you need to do the following things:\n",
    "\n",
    "- Change the array nums such that the first k elements of nums contain the elements which are not equal to val. The remaining elements of nums are not important as well as the size of nums.\n",
    "- Return k.\n",
    "\n",
    "**Example :**\n",
    "Input: nums = [3,2,2,3], val = 3\n",
    "Output: 2, nums = [2,2,_*,_*]\n",
    "\n",
    "**Explanation:** Your function should return k = 2, with the first two elements of nums being 2. It does not matter what you leave beyond the returned k (hence they are underscores)\n"
   ]
  },
  {
   "cell_type": "code",
   "execution_count": 28,
   "id": "54c6e1b9",
   "metadata": {},
   "outputs": [
    {
     "name": "stdout",
     "output_type": "stream",
     "text": [
      "2 [2, 2]\n"
     ]
    }
   ],
   "source": [
    "class RemoveVal:\n",
    "    \n",
    "    def __init__(self,array,num):\n",
    "        self.array = array\n",
    "        self.num = num\n",
    "        self.new_list = list()\n",
    "        self.k = 0\n",
    "        self.remove()\n",
    "    def remove(self):\n",
    "        \n",
    "        for i in range(len(self.array)):\n",
    "            if self.array[i] != self.num:\n",
    "                self.new_list.append(self.array[i])\n",
    "                self.k = self.k +1\n",
    "        \n",
    "\n",
    "                \n",
    "if __name__ == \"__main__\":\n",
    "    array = [3,2,2,3]\n",
    "    num = 3\n",
    "    Result = RemoveVal(array,num) # index of the first occurence of elements as per satisfied case\n",
    "    print(Result.k,Result.new_list)    "
   ]
  },
  {
   "cell_type": "markdown",
   "id": "58f96ce5",
   "metadata": {},
   "source": [
    "## **Q3.** \n",
    "Given a sorted array of distinct integers and a target value, return the index if the target is found. If not, return the index where it would be if it were inserted in order.\n",
    "\n",
    "You must write an algorithm with O(log n) runtime complexity.\n",
    "\n",
    "**Example 1:**\n",
    "Input: nums = [1,3,5,6], target = 5\n",
    "\n",
    "Output: 2"
   ]
  },
  {
   "cell_type": "code",
   "execution_count": 38,
   "id": "70190cb5",
   "metadata": {},
   "outputs": [
    {
     "name": "stdout",
     "output_type": "stream",
     "text": [
      "2\n"
     ]
    }
   ],
   "source": [
    "from typing import List\n",
    "class IndexNum:\n",
    "    \n",
    "    def __init__(self, array: List[int], target: int):\n",
    "        self.array = array\n",
    "        self.target = target\n",
    "        self.index = self.find()\n",
    "        \n",
    "    \n",
    "    def find(self)->int:\n",
    "        for i in range(len(self.array)):\n",
    "            if self.array[i] >= self.target:\n",
    "                return i\n",
    "            \n",
    "            \n",
    "if __name__ == \"__main__\":\n",
    "    array = [1,3,5,6]\n",
    "    target = 5\n",
    "    result = IndexNum(array,target)\n",
    "    print(result.index)\n",
    "                "
   ]
  },
  {
   "cell_type": "markdown",
   "id": "6e25e37b",
   "metadata": {},
   "source": [
    "## **Q4.** \n",
    "You are given a large integer represented as an integer array digits, where each digits[i] is the ith digit of the integer. The digits are ordered from most significant to least significant in left-to-right order. The large integer does not contain any leading 0's.\n",
    "\n",
    "Increment the large integer by one and return the resulting array of digits.\n",
    "\n",
    "**Example 1:**\n",
    "Input: digits = [1,2,3]\n",
    "Output: [1,2,4]\n",
    "\n",
    "**Explanation:** The array represents the integer 123.\n",
    "\n",
    "Incrementing by one gives 123 + 1 = 124.\n",
    "Thus, the result should be [1,2,4]."
   ]
  },
  {
   "cell_type": "code",
   "execution_count": 165,
   "id": "22701f6a",
   "metadata": {},
   "outputs": [
    {
     "name": "stdout",
     "output_type": "stream",
     "text": [
      "[1, 2, 4]\n"
     ]
    }
   ],
   "source": [
    "class IncrementOne:\n",
    "    def increment(self,array):\n",
    "        number = 0\n",
    "        order = 10**(len(array)-1)\n",
    "        for count, digit in enumerate(array):\n",
    "            number = number + digit*order\n",
    "            order = int(order/10)\n",
    "            \n",
    "        number +=1\n",
    "        order = 10**(len([digit for digit in str(number)])-1) \n",
    "        array.clear()\n",
    "        num = number\n",
    "        \n",
    "        while (order>=1):\n",
    "            digit = int((num - number%order)/order )\n",
    "            num = num%(order)\n",
    "            order = order/10\n",
    "            array.append(digit)\n",
    "\n",
    "        \n",
    "array = [1,2,3]\n",
    "num = IncrementOne()\n",
    "num.increment(array)\n",
    "print(array)"
   ]
  },
  {
   "cell_type": "markdown",
   "id": "ac6dc79b",
   "metadata": {},
   "source": [
    "## **Q5.** \n",
    "You are given two integer arrays nums1 and nums2, sorted in non-decreasing order, and two integers m and n, representing the number of elements in nums1 and nums2 respectively.\n",
    "\n",
    "Merge nums1 and nums2 into a single array sorted in non-decreasing order.\n",
    "\n",
    "The final sorted array should not be returned by the function, but instead be stored inside the array nums1. To accommodate this, nums1 has a length of m + n, where the first m elements denote the elements that should be merged, and the last n elements are set to 0 and should be ignored. nums2 has a length of n.\n",
    "\n",
    "**Example 1:**\n",
    "Input: nums1 = [1,2,3,0,0,0], m = 3, nums2 = [2,5,6], n = 3\n",
    "Output: [1,2,2,3,5,6]\n",
    "\n",
    "**Explanation:** The arrays we are merging are [1,2,3] and [2,5,6].\n",
    "The result of the merge is [1,2,2,3,5,6] with the underlined elements coming from nums1.\n",
    "\n",
    "</aside>"
   ]
  },
  {
   "cell_type": "code",
   "execution_count": 194,
   "id": "7fde60ab",
   "metadata": {},
   "outputs": [
    {
     "name": "stdout",
     "output_type": "stream",
     "text": [
      "[1, 2, 2, 3, 5, 6]\n"
     ]
    }
   ],
   "source": [
    "class MergeArray:      \n",
    "    def merge(self,nums1,nums2):\n",
    "        nums1 = nums1+nums2\n",
    "        for i in range(len(nums1)):\n",
    "            if i>0:\n",
    "                if nums1[i]<nums1[i-1]:\n",
    "                    temp = nums1[i]\n",
    "                    nums1[i]=nums1[i-1]\n",
    "                    nums1[i-1]= temp\n",
    "        return nums1\n",
    "        \n",
    "if __name__ == \"__main__\":\n",
    "    nums1 = [1,2,3]\n",
    "    m = 3\n",
    "    nums2 = [2,5,6]\n",
    "    n = 3\n",
    "    obj_MergeArray = MergeArray()\n",
    "    nums1=obj_MergeArray.merge(nums1,nums2)\n",
    "    print(nums1)\n",
    "        "
   ]
  },
  {
   "cell_type": "markdown",
   "id": "80ad1a43",
   "metadata": {},
   "source": [
    "## **Q6.** \n",
    "Given an integer array nums, return true if any value appears at least twice in the array, and return false if every element is distinct.\n",
    "\n",
    "**Example 1:**\n",
    "Input: nums = [1,2,3,1]\n",
    "\n",
    "Output: true\n"
   ]
  },
  {
   "cell_type": "code",
   "execution_count": 198,
   "id": "75968827",
   "metadata": {},
   "outputs": [
    {
     "name": "stdout",
     "output_type": "stream",
     "text": [
      "True\n"
     ]
    }
   ],
   "source": [
    "class Duplicate:\n",
    "    def find(self,array):\n",
    "        array.sort()\n",
    "        for i in range(len(array)):\n",
    "            if array[i]==array[i-1]:\n",
    "                return True\n",
    "        return False\n",
    "    \n",
    "if __name__ ==\"__main__\":\n",
    "    array = [1,2,3,1]\n",
    "    result = Duplicate()\n",
    "    result_val = result.find(array.copy())\n",
    "    print(result_val)\n",
    "    "
   ]
  },
  {
   "cell_type": "markdown",
   "id": "710ef98b",
   "metadata": {},
   "source": [
    "## **Q7.** \n",
    "Given an integer array nums, move all 0's to the end of it while maintaining the relative order of the nonzero elements.\n",
    "\n",
    "Note that you must do this in-place without making a copy of the array.\n",
    "\n",
    "**Example 1:**\n",
    "Input: nums = [0,1,0,3,12]\n",
    "Output: [1,3,12,0,0]\n"
   ]
  },
  {
   "cell_type": "code",
   "execution_count": 248,
   "id": "495e0db5",
   "metadata": {},
   "outputs": [
    {
     "name": "stdout",
     "output_type": "stream",
     "text": [
      "[1, 3, 12, 0, 0]\n"
     ]
    }
   ],
   "source": [
    "from typing import List\n",
    "class ArrangeZeros:\n",
    "    \n",
    "    def arrange(self,array: List[int])->List[int]:\n",
    "        for index in range(len(array)):\n",
    "            if array[index]==0:\n",
    "                array.append(array.pop(index))\n",
    "        return array\n",
    "\n",
    "if __name__ == \"__main__\":\n",
    "    array = [0,1,0,3,12]\n",
    "    obj_Arrange=  ArrangeZeros()\n",
    "    result =  obj_Arrange.arrange(array.copy())  # pasing copy of original array to avoid changes in original array\n",
    "    print(result)\n",
    "        "
   ]
  },
  {
   "cell_type": "code",
   "execution_count": 204,
   "id": "7303814c",
   "metadata": {},
   "outputs": [
    {
     "data": {
      "text/plain": [
       "[1, 3, 12, 0, 0]"
      ]
     },
     "execution_count": 204,
     "metadata": {},
     "output_type": "execute_result"
    }
   ],
   "source": [
    "array"
   ]
  },
  {
   "cell_type": "markdown",
   "id": "58d2c59d",
   "metadata": {},
   "source": [
    "## **Q8.** \n",
    "You have a set of integers s, which originally contains all the numbers from 1 to n. Unfortunately, due to some error, one of the numbers in s got duplicated to another number in the set, which results in repetition of one number and loss of another number.\n",
    "\n",
    "You are given an integer array nums representing the data status of this set after the error.\n",
    "\n",
    "Find the number that occurs twice and the number that is missing and return them in the form of an array.\n",
    "\n",
    "**Example 1:**\n",
    "Input: nums = [1,2,2,4]\n",
    "Output: [2,3]\n"
   ]
  },
  {
   "cell_type": "code",
   "execution_count": 247,
   "id": "1701dae3",
   "metadata": {},
   "outputs": [
    {
     "name": "stdout",
     "output_type": "stream",
     "text": [
      "found\n",
      "[2, 3]\n"
     ]
    }
   ],
   "source": [
    "class DuplicateFind:\n",
    "    def __init__(self,array):\n",
    "        self.array = array\n",
    "        self.result = list()\n",
    "        self.find()\n",
    "    def find(self):\n",
    "        dub_element = int()\n",
    "        corr_element = int()\n",
    "\n",
    "        i=0 \n",
    "        while(i<len(self.array)-1):\n",
    "            \n",
    "                \n",
    "            if self.array[i] == self.array[i+1]:\n",
    "                dub_element=self.array[i]\n",
    "                \n",
    "                if self.array[i+1] == len(self.array)-1: # case when duplicate element is at the last\n",
    "                    corr_element = self.array[i] + (self.array[i]-self.array[i-1])\n",
    "                else:\n",
    "                    # the correct element will be the avg of adjacent elements of incorrecr elements\n",
    "                    corr_element = int((self.array[i] + self.array[i+2])/2) \n",
    "                    \n",
    "            i = i+1\n",
    "                \n",
    "        self.result = [dub_element,corr_element]\n",
    "                \n",
    "if __name__ ==\"__main__\":\n",
    "    array  = [1,2,2,4]\n",
    "    obj = DuplicateFind(array)\n",
    "    print(obj.result)"
   ]
  }
 ],
 "metadata": {
  "kernelspec": {
   "display_name": "Python 3 (ipykernel)",
   "language": "python",
   "name": "python3"
  },
  "language_info": {
   "codemirror_mode": {
    "name": "ipython",
    "version": 3
   },
   "file_extension": ".py",
   "mimetype": "text/x-python",
   "name": "python",
   "nbconvert_exporter": "python",
   "pygments_lexer": "ipython3",
   "version": "3.9.13"
  }
 },
 "nbformat": 4,
 "nbformat_minor": 5
}
