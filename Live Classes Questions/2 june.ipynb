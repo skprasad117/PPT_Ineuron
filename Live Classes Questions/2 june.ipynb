{
 "cells": [
  {
   "cell_type": "code",
   "execution_count": 10,
   "id": "35d19403",
   "metadata": {},
   "outputs": [],
   "source": [
    "def sum_of_digit(number):\n",
    "    if number == 0:\n",
    "        return 0 \n",
    "    return number%10 + sum_of_digit(int(number/10))\n",
    "    "
   ]
  },
  {
   "cell_type": "code",
   "execution_count": 15,
   "id": "d31b69c0",
   "metadata": {},
   "outputs": [
    {
     "data": {
      "text/plain": [
       "3"
      ]
     },
     "execution_count": 15,
     "metadata": {},
     "output_type": "execute_result"
    }
   ],
   "source": [
    "sum_of_digit(1002)"
   ]
  },
  {
   "cell_type": "code",
   "execution_count": 12,
   "id": "fcc89983",
   "metadata": {},
   "outputs": [],
   "source": [
    "def sum_of_digit(number):\n",
    "    return 0 if number == 0 else number%10 + sum_of_digit(int(number/10))\n",
    "    "
   ]
  },
  {
   "cell_type": "code",
   "execution_count": 14,
   "id": "97b47b89",
   "metadata": {},
   "outputs": [
    {
     "data": {
      "text/plain": [
       "10"
      ]
     },
     "execution_count": 14,
     "metadata": {},
     "output_type": "execute_result"
    }
   ],
   "source": [
    "sum_of_digit(1234)"
   ]
  },
  {
   "cell_type": "markdown",
   "id": "db408571",
   "metadata": {},
   "source": [
    "## Q2"
   ]
  },
  {
   "cell_type": "code",
   "execution_count": 22,
   "id": "624f53c8",
   "metadata": {},
   "outputs": [],
   "source": [
    "def gcd(num1,num2):\n",
    "    if num1==0 or num2==0:\n",
    "        return num1 + num2\n",
    "    if num1>num2:\n",
    "        num1 = num1%2\n",
    "    else:\n",
    "        num2= num2%1\n",
    "    \n",
    "    return gcd(num1,num2)"
   ]
  },
  {
   "cell_type": "code",
   "execution_count": 30,
   "id": "20667d3b",
   "metadata": {},
   "outputs": [
    {
     "data": {
      "text/plain": [
       "1"
      ]
     },
     "execution_count": 30,
     "metadata": {},
     "output_type": "execute_result"
    }
   ],
   "source": [
    "gcd(21,13)"
   ]
  },
  {
   "cell_type": "code",
   "execution_count": 31,
   "id": "0246f734",
   "metadata": {},
   "outputs": [],
   "source": [
    "# num 1 is bigger\n",
    "def gcd(num1,num2):\n",
    "    if num1==0 or num2==0:\n",
    "        return num1 + num2\n",
    "    \n",
    "    return gcd(num2,num1%num2)"
   ]
  },
  {
   "cell_type": "code",
   "execution_count": 32,
   "id": "97a00954",
   "metadata": {},
   "outputs": [
    {
     "data": {
      "text/plain": [
       "1"
      ]
     },
     "execution_count": 32,
     "metadata": {},
     "output_type": "execute_result"
    }
   ],
   "source": [
    "gcd(21,13)"
   ]
  },
  {
   "cell_type": "code",
   "execution_count": null,
   "id": "aca2743b",
   "metadata": {},
   "outputs": [],
   "source": []
  }
 ],
 "metadata": {
  "kernelspec": {
   "display_name": "Python 3 (ipykernel)",
   "language": "python",
   "name": "python3"
  },
  "language_info": {
   "codemirror_mode": {
    "name": "ipython",
    "version": 3
   },
   "file_extension": ".py",
   "mimetype": "text/x-python",
   "name": "python",
   "nbconvert_exporter": "python",
   "pygments_lexer": "ipython3",
   "version": "3.9.13"
  }
 },
 "nbformat": 4,
 "nbformat_minor": 5
}
