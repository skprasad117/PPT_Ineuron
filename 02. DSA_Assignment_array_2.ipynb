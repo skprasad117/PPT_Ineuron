{
 "cells": [
  {
   "cell_type": "code",
   "execution_count": 76,
   "id": "b6126e2e",
   "metadata": {},
   "outputs": [
    {
     "data": {
      "text/plain": [
       "(1, 4, 8)"
      ]
     },
     "execution_count": 76,
     "metadata": {},
     "output_type": "execute_result"
    }
   ],
   "source": [
    "pending 4"
   ]
  },
  {
   "cell_type": "markdown",
   "id": "5b63565d",
   "metadata": {},
   "source": [
    "## **Question 1**\n",
    "Given an integer array nums of 2n integers, group these integers into n pairs (a1, b1), (a2, b2),..., (an, bn) such that the sum of min(ai, bi) for all i is maximized. Return the maximized sum.\n",
    "\n",
    "**Example 1:**\n",
    "Input: nums = [1,4,3,2]\n",
    "Output: 4\n",
    "\n",
    "**Explanation:** All possible pairings (ignoring the ordering of elements) are:\n",
    "\n",
    "1. (1, 4), (2, 3) -> min(1, 4) + min(2, 3) = 1 + 2 = 3\n",
    "2. (1, 3), (2, 4) -> min(1, 3) + min(2, 4) = 1 + 2 = 3\n",
    "3. (1, 2), (3, 4) -> min(1, 2) + min(3, 4) = 1 + 3 = 4\n",
    "So the maximum possible sum is 4\n",
    "</aside>"
   ]
  },
  {
   "cell_type": "code",
   "execution_count": 47,
   "id": "f192ac37",
   "metadata": {},
   "outputs": [
    {
     "data": {
      "text/plain": [
       "4"
      ]
     },
     "execution_count": 47,
     "metadata": {},
     "output_type": "execute_result"
    }
   ],
   "source": [
    "class MaxSum:\n",
    "    def summed(self,array):\n",
    "        \n",
    "        l = 0 # fixed\n",
    "        max_sum = 0\n",
    "        for i in range(1,len(array)):\n",
    "            temp = array[1:].copy()\n",
    "            temp.sort()\n",
    "            summ = min(array[l],temp.pop(i-1)) + temp[0]\n",
    "            max_sum = max(max_sum,summ)\n",
    "        return max_sum  \n",
    "\n",
    "array = [1,4,3,2]\n",
    "obj = MaxSum()\n",
    "obj.summed(array)"
   ]
  },
  {
   "cell_type": "markdown",
   "id": "3bbea4f4",
   "metadata": {},
   "source": [
    "## Question 2\n",
    "Alice has n candies, where the ith candy is of type candyType[i]. Alice noticed that she started to gain weight, so she visited a doctor. \n",
    "\n",
    "The doctor advised Alice to only eat n / 2 of the candies she has (n is always even). Alice likes her candies very much, and she wants to eat the maximum number of different types of candies while still following the doctor's advice. \n",
    "\n",
    "Given the integer array candyType of length n, return the maximum number of different types of candies she can eat if she only eats n / 2 of them.\n",
    "\n",
    "Example 1:\n",
    "Input: candyType = [1,1,2,2,3,3]\n",
    "Output: 3\n",
    "\n",
    "Explanation: Alice can only eat 6 / 2 = 3 candies. Since there are only 3 types, she can eat one of each type."
   ]
  },
  {
   "cell_type": "code",
   "execution_count": 115,
   "id": "7ccadd18",
   "metadata": {},
   "outputs": [
    {
     "name": "stdout",
     "output_type": "stream",
     "text": [
      "3\n"
     ]
    }
   ],
   "source": [
    "class MaxCandy:\n",
    "    def caneat(self,candytype):\n",
    "        if len(candytype)%2 ==0:\n",
    "            result = 0\n",
    "            for candy_type in (set(candytype)):\n",
    "                count = 0\n",
    "                for candy in candytype:\n",
    "                    if candy_type == candy:\n",
    "                        count +=1\n",
    "\n",
    "                result = result + int(count/2)\n",
    "            return result\n",
    "        else:\n",
    "            return \"candies must be even in quantity\"\n",
    "    \n",
    "array = [1,1,2,2,3,3]\n",
    "obj = MaxCandy()\n",
    "result = obj.caneat(array)\n",
    "print(result)"
   ]
  },
  {
   "cell_type": "markdown",
   "id": "15c6c091",
   "metadata": {},
   "source": [
    "## Question 3\n",
    "We define a harmonious array as an array where the difference between its maximum value\n",
    "and its minimum value is exactly 1.\n",
    "\n",
    "Given an integer array nums, return the length of its longest harmonious subsequence\n",
    "among all its possible subsequences.\n",
    "\n",
    "A subsequence of an array is a sequence that can be derived from the array by deleting some or no elements without changing the order of the remaining elements.\n",
    "\n",
    "Example 1:\n",
    "Input: nums = [1,3,2,2,5,2,3,7]\n",
    "Output: 5\n",
    "\n",
    "Explanation: The longest harmonious subsequence is [3,2,2,2,3]."
   ]
  },
  {
   "cell_type": "code",
   "execution_count": 26,
   "id": "e8b65113",
   "metadata": {},
   "outputs": [
    {
     "data": {
      "text/plain": [
       "5"
      ]
     },
     "execution_count": 26,
     "metadata": {},
     "output_type": "execute_result"
    }
   ],
   "source": [
    "class HarmoniusArray:\n",
    "    def array(self,array):\n",
    "        array.sort()\n",
    "        r = 0\n",
    "        max_len = 0\n",
    "        \n",
    "        for i in range(len(array)):\n",
    "         \n",
    "            if i > r and array[i]-array[r] >1:\n",
    "                r += 1\n",
    "            if array[i]-array[r] == 1:\n",
    "                max_len =  max(max_len, len(array[r:i+1]))\n",
    "        return max_len\n",
    "    \n",
    "obj =  HarmoniusArray()\n",
    "obj.array([1,3,2,2,5,2,3,7])\n",
    "                "
   ]
  },
  {
   "cell_type": "markdown",
   "id": "2850b8dd",
   "metadata": {},
   "source": [
    "## Question 4\n",
    "You have a long flowerbed in which some of the plots are planted, and some are not.\n",
    "However, flowers cannot be planted in adjacent plots.\n",
    "Given an integer array flowerbed containing 0's and 1's, where 0 means empty and 1 means not empty, and an integer n, return true if n new flowers can be planted in the flowerbed without violating the no-adjacent-flowers rule and false otherwise.\n",
    "\n",
    "Example 1:\n",
    "Input: flowerbed = [1,0,0,0,1], n = 1\n",
    "Output: true"
   ]
  },
  {
   "cell_type": "code",
   "execution_count": 75,
   "id": "9f97306d",
   "metadata": {},
   "outputs": [
    {
     "name": "stdout",
     "output_type": "stream",
     "text": [
      "[1, 0, 1, 0, 1, 0, 0, 1] 1\n",
      "[1, 0, 1, 0, 1, 0, 0, 1] 0\n",
      "[1, 0, 1, 0, 1, 0, 0, 1] 0\n"
     ]
    },
    {
     "data": {
      "text/plain": [
       "True"
      ]
     },
     "execution_count": 75,
     "metadata": {},
     "output_type": "execute_result"
    }
   ],
   "source": [
    "class solution:\n",
    "    def place(self,array,n):\n",
    "        l= 0\n",
    "        r= len(array)-1\n",
    "        repetation = n\n",
    "        for repeat in range(repetation):\n",
    "            count = 0\n",
    "            if array[0] == 0 and array[1]==0:\n",
    "                array[0] =1\n",
    "                n=n-1\n",
    "            if array[r] == 0 and array[r-1]==0:\n",
    "                array[r] =1\n",
    "                n=n-1\n",
    "                \n",
    "            for index,i in enumerate(array):\n",
    "                if i==0:\n",
    "                    count +=1\n",
    "                    if count ==3 and n!=0:\n",
    "                        n=n-1\n",
    "                        array[index-1]=1\n",
    "                        break\n",
    "            print(array,n)\n",
    " \n",
    "        if n ==0:\n",
    "            return True\n",
    "        else:\n",
    "            return False\n",
    "                \n",
    "        \n",
    "obj = solution()\n",
    "obj.place([1,0,0,0,1,0,0,0], 3 )"
   ]
  },
  {
   "cell_type": "markdown",
   "id": "693b8d57",
   "metadata": {},
   "source": [
    "## Question 5\n",
    "Given an integer array nums, find three numbers whose product is maximum and return the maximum product.\n",
    "\n",
    "Example 1:\n",
    "Input: nums = [1,2,3]\n",
    "Output: 6"
   ]
  },
  {
   "cell_type": "code",
   "execution_count": 41,
   "id": "45834f8c",
   "metadata": {},
   "outputs": [
    {
     "data": {
      "text/plain": [
       "6"
      ]
     },
     "execution_count": 41,
     "metadata": {},
     "output_type": "execute_result"
    }
   ],
   "source": [
    "class MaxProductOfThree:\n",
    "    \n",
    "    def maxproduct(self,array):\n",
    "        array.sort()\n",
    "        max_product = 1\n",
    "        \n",
    "        for i in range(-1,-len(array)-1,-1):\n",
    "            max_product = max_product*array[i]\n",
    "        return max_product\n",
    "\n",
    "array =  [1,2,3] \n",
    "obj = MaxProductOfThree()\n",
    "obj.maxproduct(array)"
   ]
  },
  {
   "cell_type": "markdown",
   "id": "71801a5a",
   "metadata": {},
   "source": [
    "## Question 6\n",
    "Given an array of integers nums which is sorted in ascending order, and an integer target,\n",
    "write a function to search target in nums. If target exists, then return its index. Otherwise,\n",
    "return -1.\n",
    "\n",
    "You must write an algorithm with O(log n) runtime complexity.\n",
    "\n",
    "Input: nums = [-1,0,3,5,9,12], target = 9\n",
    "Output: 4\n",
    "\n",
    "Explanation: 9 exists in nums and its index is 4"
   ]
  },
  {
   "cell_type": "code",
   "execution_count": 45,
   "id": "164b6974",
   "metadata": {},
   "outputs": [
    {
     "data": {
      "text/plain": [
       "4"
      ]
     },
     "execution_count": 45,
     "metadata": {},
     "output_type": "execute_result"
    }
   ],
   "source": [
    "class FindTargetClass:\n",
    "    def find(self,array,target):\n",
    "        array_copy = array.copy()\n",
    "        array_copy.sort()\n",
    "        l = 0\n",
    "        r =  len(array_copy)-1\n",
    "        \n",
    "        while(l<r):\n",
    "            mid = (l+r)//2\n",
    "            \n",
    "            if array_copy[mid] == target:\n",
    "                return array.index(array_copy[mid])\n",
    "            elif array_copy[mid] < target:\n",
    "                l = mid + 1\n",
    "            else:\n",
    "                r = mid -1\n",
    "nums = [-1,0,3,5,9,12]\n",
    "obj = FindTargetClass()\n",
    "obj.find(nums,9)\n"
   ]
  },
  {
   "cell_type": "markdown",
   "id": "c6c689ac",
   "metadata": {},
   "source": [
    "## Question 7\n",
    "An array is monotonic if it is either monotone increasing or monotone decreasing.\n",
    "\n",
    "An array nums is monotone increasing if for all i <= j, nums[i] <= nums[j]. An array nums is\n",
    "monotone decreasing if for all i <= j, nums[i] >= nums[j].\n",
    "\n",
    "Given an integer array nums, return true if the given array is monotonic, or false otherwise.\n",
    "\n",
    "Example 1:\n",
    "Input: nums = [1,2,2,3]\n",
    "Output: true"
   ]
  },
  {
   "cell_type": "code",
   "execution_count": 75,
   "id": "dbac4d05",
   "metadata": {},
   "outputs": [
    {
     "data": {
      "text/plain": [
       "True"
      ]
     },
     "execution_count": 75,
     "metadata": {},
     "output_type": "execute_result"
    }
   ],
   "source": [
    "class Monotonic:\n",
    "    def find(self,array):\n",
    "        flag = 0     # default 0 for monotone inc, 1 for monotone dec for starting elements\n",
    "        if array[0]>array[-1]:\n",
    "            flag = 1\n",
    "        \n",
    "        for i in range(len(array)):\n",
    "            if i>=1 and array[i-1]>array[i]: # if dec\n",
    "                if flag == 0:\n",
    "                    return False\n",
    "                \n",
    "            elif i>=1 and array[i-1]<array[i]:\n",
    "                if flag == 1:\n",
    "                    return False\n",
    "        return True\n",
    "                    \n",
    "            \n",
    "array = [1,2,2,3] \n",
    "obj = Monotonic()\n",
    "obj.find(array)"
   ]
  },
  {
   "cell_type": "markdown",
   "id": "cdc00ee1",
   "metadata": {},
   "source": [
    "## Question 8\n",
    "You are given an integer array nums and an integer k.\n",
    "\n",
    "In one operation, you can choose any index i where 0 <= i < nums.length and change nums[i] to nums[i] + x where x is an integer from the range [-k, k]. You can apply this operation at most once for each index i.\n",
    "\n",
    "The score of nums is the difference between the maximum and minimum elements in nums.\n",
    "\n",
    "Return the minimum score of nums after applying the mentioned operation at most once for each index in it.\n",
    "\n",
    "Example 1:\n",
    "Input: nums = [1], k = 0\n",
    "Output: 0\n",
    "\n",
    "Explanation: The score is max(nums) - min(nums) = 1 - 1 = 0."
   ]
  },
  {
   "cell_type": "code",
   "execution_count": 9,
   "id": "f6a2a9bf",
   "metadata": {},
   "outputs": [
    {
     "data": {
      "text/plain": [
       "0"
      ]
     },
     "execution_count": 9,
     "metadata": {},
     "output_type": "execute_result"
    }
   ],
   "source": [
    "def score(array,k):\n",
    "    max_num = 0\n",
    "    min_num = 0\n",
    "    for i in array:\n",
    "        for j in range(-k,+k):\n",
    "            max_num = max(max_num,i+j)\n",
    "            max_num = max(max_num,i+j)\n",
    "    return max_num - min_num\n",
    "\n",
    "nums = [1]\n",
    "k = 0\n",
    "score(nums,k)"
   ]
  }
 ],
 "metadata": {
  "kernelspec": {
   "display_name": "Python 3 (ipykernel)",
   "language": "python",
   "name": "python3"
  },
  "language_info": {
   "codemirror_mode": {
    "name": "ipython",
    "version": 3
   },
   "file_extension": ".py",
   "mimetype": "text/x-python",
   "name": "python",
   "nbconvert_exporter": "python",
   "pygments_lexer": "ipython3",
   "version": "3.9.13"
  }
 },
 "nbformat": 4,
 "nbformat_minor": 5
}
